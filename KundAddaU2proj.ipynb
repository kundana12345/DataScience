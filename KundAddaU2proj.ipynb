{
  "nbformat": 4,
  "nbformat_minor": 0,
  "metadata": {
    "colab": {
      "provenance": [],
      "include_colab_link": true
    },
    "kernelspec": {
      "name": "python3",
      "display_name": "Python 3"
    },
    "language_info": {
      "name": "python"
    }
  },
  "cells": [
    {
      "cell_type": "markdown",
      "metadata": {
        "id": "view-in-github",
        "colab_type": "text"
      },
      "source": [
        "<a href=\"https://colab.research.google.com/github/kundana12345/DataScience/blob/main/KundAddaU2proj.ipynb\" target=\"_parent\"><img src=\"https://colab.research.google.com/assets/colab-badge.svg\" alt=\"Open In Colab\"/></a>"
      ]
    },
    {
      "cell_type": "markdown",
      "source": [
        "Unit 2 Project: Alopecia and diabetes, is there a correlation?\n",
        "\n",
        "**Task**:\n",
        "\n",
        "Two parts:\n",
        "\n",
        "1. Propose a data set that's compatible with a pymc betabinomial model. I must approve your submission before you move on to part 2.\n",
        "\n",
        "2. Create, analyze, and present a betabinomial model using pymc within the colab environment, on a data set of your choice."
      ],
      "metadata": {
        "id": "hIWO5hU4NeAg"
      }
    },
    {
      "cell_type": "markdown",
      "source": [
        "Dataset\n",
        "https://archive.ics.uci.edu/dataset/529/early+stage+diabetes+risk+prediction+dataset"
      ],
      "metadata": {
        "id": "qhdzu_UvdsY8"
      }
    },
    {
      "cell_type": "markdown",
      "source": [
        "Guidlines:\n",
        "\n",
        "- You are allowed to copy and paste any code from the notes, including my answer key (AK), without any reference or citations. Same goes for the course textbook, BAP3.\n",
        "\n",
        "- This is an individual project. It is fine if you model the same process as a peer, but your raw data **must** be substantially different. \"Substantially different\" means that I, your instructor, arbitrarily think your data sets are different enough.\n",
        "\n",
        "- Do not look at other student's code/jupyter notebooks. Copying, or copying and pasting, other students code will result in a failing grade. Also, I will tell all the other teachers I know that you cheated.\n",
        "\n",
        "- If you want to know what another student did, ask them--any verbal communication about a project is allowed and encouraged. If you want to see a graphic they made, ask them to sketch a picture of it for you by hand.\n",
        "\n",
        "- Any handwritten communication is also allowed and encouraged, so long as all parties are in the same physical location together. Example: you may sketch out a piece of code while verbally explaining to someone what you did. Do NOT: hand write the code for your entire project, take a picture, and send it to everyone in the course.\n",
        "\n",
        "- If you use someone's code from outside this course (like from the internet, an AI, or your parent), you must ask me if it is ok, and you must cite them in your work. I don't care all they did was to click your space bar one more time: you tell me, and you cite their contribution. You don't need to tell me about or cite verbal or handwritten communication though.\n",
        "\n",
        "- You may use a more complicated model--like something from further along in the course--IF I give you permission.\n",
        "\n",
        "- If you are unsure whether or not something is ok or allowed: ASK BEFORE YOU DO IT.\n",
        "\n",
        "Faliure to adhere to these guidlines will result in a failing grade."
      ],
      "metadata": {
        "id": "iG3eGgAnPT6b"
      }
    },
    {
      "cell_type": "markdown",
      "source": [
        "Tips:\n",
        "\n",
        "- Anything that can be looked at as either being yes or no, success or faliure, can be modeled with the betabinomial model. Examples: BAP3 introduces the betabinomial model with coin flipping, and Richard McElreath starts with guessing the proportion of surface water covering a planet in his book Statistical Rethinking.\n",
        "\n",
        "- Try to pick something that you care about, have knowledge of, experience with, or that you find interesting/cool.\n",
        "\n",
        "-  Use your best idea now; you could use the same context the whole course and learn everything you need to know. Its more than ok to use the same context, or even some of the same data, from unit to unit.\n",
        "\n",
        "- Comment heavily, and explain your steps and thought process with text blocks. This is not only requried, it'll also help you understand what you're doing and what you want to do.\n",
        "\n",
        "- Want an example? The Unit2NotesAK *is* your example! You are expected to be somewhere between a half and a quarter as detailed--but more is always welcome."
      ],
      "metadata": {
        "id": "YJPcaPErSNjc"
      }
    },
    {
      "cell_type": "markdown",
      "source": [
        "**Context:**\n",
        "The purpose of this project is to see whether having alopecia (hair loss) is associated with having diabetes. The data comes from the Early Stage Diabetes Risk Prediction Dataset from UCI Machine Learning Repository which has features for a total of 520 patients, some with and some without diabetes. It also contained 16 associated features such as age, muscle stiffness, and alopecia. For this project, the data was limited to 242 patients, because these are the ones who were positive for diabetes. Within these 242 patients, some had alopecia, and some didn't.\n",
        "\n",
        "\n",
        "\n",
        "*   You can read more about alopecia here: https://my.clevelandclinic.org/health/diseases/12423-alopecia-areata\n",
        "*   You can read more about diabetes here: https://www.mayoclinic.org/diseases-conditions/diabetes/symptoms-causes/syc-20371444\n",
        "\n",
        "\n",
        "\n",
        "Dataset: https://www.google.com/url?q=https%3A%2F%2Farchive.ics.uci.edu%2Fdataset%2F529%2Fearly%2Bstage%2Bdiabetes%2Brisk%2Bprediction%2Bdataset\n",
        "\n",
        "This is a binomial problem because it represents the probability that a diabetes patient has alopecia.\n"
      ],
      "metadata": {
        "id": "G8iQ9n1GKr9F"
      }
    },
    {
      "cell_type": "code",
      "source": [
        "!pip install preliz"
      ],
      "metadata": {
        "id": "OrG_9xR67J50"
      },
      "execution_count": null,
      "outputs": []
    },
    {
      "cell_type": "code",
      "source": [
        "import preliz as pz"
      ],
      "metadata": {
        "id": "KixixMoY7Keb"
      },
      "execution_count": 2,
      "outputs": []
    },
    {
      "cell_type": "code",
      "source": [
        "import numpy as np\n",
        "import arviz as az\n",
        "import pymc as pm"
      ],
      "metadata": {
        "id": "JhD-VliM7MSz"
      },
      "execution_count": 3,
      "outputs": []
    },
    {
      "cell_type": "markdown",
      "source": [
        "**Prior:** The prior distribution shows our intial belief about the proportion of diabetes patients who also have alopecia. I put lower numbers so that this is weighed less in the posterior compared to the actual data we have. I saw past research of a positive correlation between the two. Linked below:\n",
        "\n",
        "*   https://pubmed.ncbi.nlm.nih.gov/39852208/\n",
        "*   https://pmc.ncbi.nlm.nih.gov/articles/PMC6831789/\n",
        "*   https://www.mdpi.com/2075-4426/15/1/16\n",
        "\n",
        "Based on this research, the model assumes there are around 6 positive alopecia cases for every 10 diabetes cases. That is why:\n",
        "\n",
        "\n",
        "*   $α = 6$\n",
        "*   $β = 4$ --> this represents there being 4 negative alopecia cases for every 10 diabetes cases\n",
        "\n"
      ],
      "metadata": {
        "id": "kmQcQZMTMzMv"
      }
    },
    {
      "cell_type": "code",
      "source": [
        "prior = pz.Beta(alpha=6,beta=4)\n",
        "\n",
        "prior.mean(), prior.median(), prior.mode()"
      ],
      "metadata": {
        "id": "iJZvWDMt9jGR",
        "colab": {
          "base_uri": "https://localhost:8080/"
        },
        "outputId": "af1f7784-7852-45e9-88d3-74b9a8de2d5e"
      },
      "execution_count": 4,
      "outputs": [
        {
          "output_type": "execute_result",
          "data": {
            "text/plain": [
              "(np.float64(0.6), 0.6069151671894176, np.float64(0.625))"
            ]
          },
          "metadata": {},
          "execution_count": 4
        }
      ]
    },
    {
      "cell_type": "markdown",
      "source": [
        "The mean shows the average of all prior distributions, the median is the middle and the mode is the most present precentage."
      ],
      "metadata": {
        "id": "N3a_Vsu5-hzx"
      }
    },
    {
      "cell_type": "code",
      "source": [
        "prior.plot_pdf()"
      ],
      "metadata": {
        "id": "0qxnSQ8xxgNn",
        "colab": {
          "base_uri": "https://localhost:8080/",
          "height": 447
        },
        "outputId": "77724d96-ecc2-4e6e-b449-be51f25fa995"
      },
      "execution_count": 5,
      "outputs": [
        {
          "output_type": "execute_result",
          "data": {
            "text/plain": [
              "<Axes: >"
            ]
          },
          "metadata": {},
          "execution_count": 5
        },
        {
          "output_type": "display_data",
          "data": {
            "text/plain": [
              "<Figure size 640x480 with 1 Axes>"
            ],
            "image/png": "[encoded data removed]"
          },
          "metadata": {}
        }
      ]
    },
    {
      "cell_type": "markdown",
      "source": [
        "The reason I thought it would be 60% was because of studies that showed a correlation. I think I misinterpreted the idea of there being a correlation as having to be a strong correlation, rather than something lower, like 20%. The studies had shown an increase of diabetes in alopecia patients compared to patients without alopecia. This is different than what I was looking into, which was the increase in having alopecia for patients with diabetes than with patients without diabetes."
      ],
      "metadata": {
        "id": "3jCI9WEm0BWf"
      }
    },
    {
      "cell_type": "markdown",
      "source": [
        "**Data:**\n",
        "This was the data used: https://archive.ics.uci.edu/dataset/529/early+stage+diabetes+risk+prediction+dataset\n",
        "\n",
        "After filtering out the non-diabetic patients, there were 320 diabetic patients left.\n",
        "\n",
        "\n",
        "*   Diabetes patients with alopecia: 78\n",
        "*   Total diabetes patients: 320\n",
        "\n",
        "Data trustworthiness: This dataset is from the UC Irvine Machine Learning Repository. It comes from a hospital in Sylhet, Bangladesh from a questionaire. This questionare may be untrustworthy, but it was approved by a doctor.\n"
      ],
      "metadata": {
        "id": "n7m_LT9hnkDM"
      }
    },
    {
      "cell_type": "markdown",
      "source": [
        "**Posterior**"
      ],
      "metadata": {
        "id": "wckLi_Dc1nYO"
      }
    },
    {
      "cell_type": "code",
      "source": [
        "#prior information\n",
        "alpha_old = 6\n",
        "beta_old = 4\n",
        "\n",
        "#likelihood info\n",
        "k = 78 #diabetes and alopecia\n",
        "n = 320 #total diabetes (with and without alopecia)\n",
        "\n",
        "analytic_FT = pz.Beta(alpha = alpha_old + k,beta = beta_old + n - k )\n",
        "\n",
        "analytic_FT.mean()\n"
      ],
      "metadata": {
        "id": "H8obuFBHC2N5",
        "colab": {
          "base_uri": "https://localhost:8080/"
        },
        "outputId": "ea534468-0d67-443b-8194-22a6749fb3d1"
      },
      "execution_count": 6,
      "outputs": [
        {
          "output_type": "execute_result",
          "data": {
            "text/plain": [
              "np.float64(0.2545454545454545)"
            ]
          },
          "metadata": {},
          "execution_count": 6
        }
      ]
    },
    {
      "cell_type": "code",
      "source": [
        "analytic_FT.plot_pdf()"
      ],
      "metadata": {
        "id": "Kb56ejg-C2u4",
        "colab": {
          "base_uri": "https://localhost:8080/",
          "height": 447
        },
        "outputId": "511be3ad-8e44-4551-eb3d-e913a187d21d"
      },
      "execution_count": 7,
      "outputs": [
        {
          "output_type": "execute_result",
          "data": {
            "text/plain": [
              "<Axes: >"
            ]
          },
          "metadata": {},
          "execution_count": 7
        },
        {
          "output_type": "display_data",
          "data": {
            "text/plain": [
              "<Figure size 640x480 with 1 Axes>"
            ],
            "image/png": "[encoded data removed]"
          },
          "metadata": {}
        }
      ]
    },
    {
      "cell_type": "markdown",
      "source": [
        "This is the result of combining the prior and the likelihood. The 25.46% shows the updated probability after factoring in both."
      ],
      "metadata": {
        "id": "9-DrqlC1qOgf"
      }
    },
    {
      "cell_type": "code",
      "source": [
        "import pymc as pm"
      ],
      "metadata": {
        "id": "2VTrSjKM-hnq"
      },
      "execution_count": 8,
      "outputs": []
    },
    {
      "cell_type": "code",
      "source": [
        "#the positive cases of alopecia\n",
        "D_positive = np.repeat(1, 78)\n",
        "\n",
        "#the negative cases of alopecia\n",
        "D_negative = np.repeat(0, 242)\n",
        "\n",
        "#combine positive and negative cases into an array\n",
        "D_data = np.concatenate( [D_positive,D_negative] )"
      ],
      "metadata": {
        "id": "w7g_E4RtBRtl"
      },
      "execution_count": 9,
      "outputs": []
    },
    {
      "cell_type": "code",
      "source": [],
      "metadata": {
        "id": "xpCLxLDDq9m3"
      },
      "execution_count": null,
      "outputs": []
    },
    {
      "cell_type": "code",
      "source": [
        "with pm.Model() as D_model:\n",
        "  #from the prior\n",
        "  θ = pm.Beta('θ' , alpha = 3. , beta = 7.)\n",
        "\n",
        "  #from the dataset\n",
        "  y = pm.Bernoulli('y', p = θ, observed = D_data)\n",
        "\n",
        "  idata_FT = pm.sample(progressBar=False)\n",
        "  #had to make it false so I can upload to GitHub"
      ],
      "metadata": {
        "id": "o-Ga_evIBmUs",
        "collapsed": true
      },
      "execution_count": null,
      "outputs": []
    },
    {
      "cell_type": "code",
      "source": [
        "az.plot_posterior(idata_FT)"
      ],
      "metadata": {
        "id": "kV4GKJcdFrjm",
        "colab": {
          "base_uri": "https://localhost:8080/",
          "height": 475
        },
        "outputId": "e7948365-4b56-4018-b771-ff11498237c7"
      },
      "execution_count": null,
      "outputs": [
        {
          "output_type": "execute_result",
          "data": {
            "text/plain": [
              "<Axes: title={'center': 'θ'}>"
            ]
          },
          "metadata": {},
          "execution_count": 10
        },
        {
          "output_type": "display_data",
          "data": {
            "text/plain": [
              "<Figure size 640x480 with 1 Axes>"
            ],
            "image/png": "[encoded data removed]"
          },
          "metadata": {}
        }
      ]
    },
    {
      "cell_type": "markdown",
      "source": [
        "Analysis: This shows that there is a 94% chance that the probability of having alopecia when you have diabetes is between 20% and 29%."
      ],
      "metadata": {
        "id": "FxxwtlxFF4R7"
      }
    },
    {
      "cell_type": "code",
      "source": [
        "pm.sample_posterior_predictive(idata_FT, model=D_model, extend_inferencedata=True)"
      ],
      "metadata": {
        "id": "bqNDEieDF8US"
      },
      "execution_count": null,
      "outputs": []
    },
    {
      "cell_type": "code",
      "source": [
        "import arviz as az"
      ],
      "metadata": {
        "id": "u_GHBnvhG_uo"
      },
      "execution_count": null,
      "outputs": []
    },
    {
      "cell_type": "code",
      "source": [
        "stacked_FT = az.extract(idata_FT, group=\"posterior_predictive\")"
      ],
      "metadata": {
        "id": "4xq7uhocGnBE"
      },
      "execution_count": null,
      "outputs": []
    },
    {
      "cell_type": "code",
      "source": [
        "stacked_FT.sel(sample=0).sel(draw=0).y.to_series().values"
      ],
      "metadata": {
        "id": "252s4bRlGnZF",
        "colab": {
          "base_uri": "https://localhost:8080/"
        },
        "outputId": "565f26b4-6f38-4ec8-dd07-3e6b07514eed"
      },
      "execution_count": null,
      "outputs": [
        {
          "output_type": "execute_result",
          "data": {
            "text/plain": [
              "array([0, 0, 1, 1, 1, 0, 0, 0, 0, 0, 1, 1, 1, 1, 0, 0, 0, 0, 0, 0, 0, 0,\n",
              "       1, 0, 0, 0, 0, 0, 0, 1, 0, 1, 0, 1, 1, 1, 0, 1, 0, 0, 1, 0, 1, 1,\n",
              "       0, 1, 1, 0, 0, 0, 0, 0, 1, 1, 0, 0, 1, 0, 0, 1, 0, 0, 0, 1, 0, 1,\n",
              "       0, 0, 0, 0, 0, 0, 0, 0, 0, 1, 1, 0, 0, 0, 0, 0, 1, 0, 0, 0, 1, 1,\n",
              "       0, 1, 0, 0, 0, 0, 0, 0, 0, 0, 0, 0, 0, 0, 1, 0, 0, 1, 0, 0, 1, 0,\n",
              "       0, 0, 0, 0, 0, 1, 0, 0, 0, 0, 0, 0, 0, 0, 0, 0, 0, 0, 0, 0, 0, 0,\n",
              "       1, 0, 0, 1, 1, 1, 0, 0, 0, 0, 1, 0, 0, 0, 0, 0, 1, 0, 0, 1, 0, 0,\n",
              "       1, 0, 0, 0, 0, 0, 1, 0, 1, 0, 0, 0, 0, 0, 0, 0, 0, 0, 0, 0, 1, 0,\n",
              "       0, 0, 0, 0, 0, 0, 0, 1, 0, 0, 0, 0, 0, 0, 0, 0, 0, 0, 0, 0, 0, 0,\n",
              "       0, 0, 0, 1, 1, 1, 0, 0, 0, 0, 0, 0, 0, 0, 1, 0, 0, 0, 1, 1, 1, 0,\n",
              "       0, 1, 0, 0, 0, 0, 0, 0, 0, 0, 0, 0, 1, 0, 0, 0, 0, 0, 1, 0, 0, 0,\n",
              "       1, 0, 0, 0, 1, 0, 1, 1, 0, 0, 0, 0, 0, 1, 0, 0, 0, 0, 0, 0, 0, 0,\n",
              "       0, 0, 0, 0, 0, 0, 0, 0, 0, 0, 1, 0, 0, 0, 0, 0, 0, 0, 0, 0, 1, 0,\n",
              "       0, 0, 0, 0, 0, 0, 0, 0, 1, 0, 0, 0, 0, 0, 1, 0, 0, 0, 0, 1, 1, 1,\n",
              "       0, 0, 0, 0, 0, 0, 0, 1, 0, 0, 0, 0])"
            ]
          },
          "metadata": {},
          "execution_count": 14
        }
      ]
    },
    {
      "cell_type": "markdown",
      "source": [
        "These are predictions for the next diabetes patients based on our model. 1 means they have alopecia, and 0 means they don't."
      ],
      "metadata": {
        "id": "rVcwoL9Y1hMo"
      }
    },
    {
      "cell_type": "markdown",
      "source": [
        "**Conclusion**\n",
        "\n",
        "\n",
        "*   The posterior mean prediction was 25.46%. This means that around one fourth of diabetes patients have alopecia. This is lower than the correlation than I previously thought it was. This can mean that there is a chance that you have alopecia if you have diabetes, but we don't know for sure that the reason that those who had alopecia was because they had diabetes, our model doesn't tell us that. In order to figure that out, looking at all the positive alopecia cases and then seeing if they had diabetes or no diabetes might have helped.\n",
        "*   Since the mean posterior value (25.46%) was lower than the prior value (60%), that means that the data made the alopecia rate lower.\n",
        "\n",
        "*   There is a 94% chance that the chance of having alopecia when you have diabetes it between 20% and 29%.\n",
        "\n",
        "Some ideas for future improved models:\n",
        "\n",
        "\n",
        "*   A dataset that gives the value of how severe the alopecia is.\n",
        "*   Looking into the specific cause of alopecia.\n",
        "\n",
        "\n",
        "*   Making use of the other 15 features that were given into this dataset such as age, gender, weakness, itching, etc. and making a model that looks into all of these correlations and sees which one has the highest. This would be helpful for diabetes screeing in the \"real world\".\n",
        "\n",
        "My assumption was wrong, which is not suprising because I misinterpreted the research in the field. This result is meaningful but doesn't go against the current results that are already out there, showing a 20-30% correlation with having alopecia given that you have diabetes. Other research has mostly focused on if you have diabetes depending on if you have alopecia, which is useful for diagnosing. However, mine is more useful for if you're looking for a diabetes patient's treatment plan, as they might want to be warned about alopecia.\n",
        "\n",
        "\n",
        "\n"
      ],
      "metadata": {
        "id": "ZerPK2hZ2ITO"
      }
    }
  ]
}